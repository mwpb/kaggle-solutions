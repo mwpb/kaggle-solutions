{
 "cells": [
  {
   "cell_type": "code",
   "execution_count": 50,
   "metadata": {},
   "outputs": [
    {
     "name": "stdout",
     "output_type": "stream",
     "text": [
      "The autoreload extension is already loaded. To reload it, use:\n",
      "  %reload_ext autoreload\n"
     ]
    }
   ],
   "source": [
    "%load_ext autoreload\n",
    "%autoreload 2\n",
    "%matplotlib inline"
   ]
  },
  {
   "cell_type": "code",
   "execution_count": 52,
   "metadata": {},
   "outputs": [],
   "source": [
    "import numpy as np\n",
    "import pandas as pd"
   ]
  },
  {
   "cell_type": "markdown",
   "metadata": {},
   "source": [
    "[fast ai](https://forums.fast.ai/t/class-notes-section-2-wk2lec2/6818)\n",
    "\n",
    "[kaggle home](https://www.kaggle.com/c/bluebook-for-bulldozers/data)"
   ]
  },
  {
   "cell_type": "code",
   "execution_count": 79,
   "metadata": {},
   "outputs": [],
   "source": [
    "import re\n",
    "\n",
    "def add_datepart(df, fldname):\n",
    "    fld = df[fldname]\n",
    "    targ_pre = re.sub('[Dd]ate$', '', fldname)\n",
    "    for n in ('Year', 'Month', 'Week', 'Day', 'Dayofweek', 'Dayofyear',\n",
    "            'Is_month_end', 'Is_month_start', 'Is_quarter_end', 'Is_quarter_start', 'Is_year_end', 'Is_year_start'):\n",
    "        df[targ_pre+n] = getattr(fld.dt,n.lower())\n",
    "    df[targ_pre+'Elapsed'] = (fld - fld.min()).dt.days\n",
    "    df.drop(fldname, axis=1, inplace=True)"
   ]
  },
  {
   "cell_type": "code",
   "execution_count": 80,
   "metadata": {},
   "outputs": [],
   "source": [
    "dataset = pd.read_csv('./data/Train.csv', low_memory = False, parse_dates=[\"saledate\"])\n",
    "dataset.SalePrice = np.log(dataset.SalePrice)\n",
    "obj_cols = dataset.select_dtypes(include = ['object']).columns\n",
    "dataset.loc[:, obj_cols] = dataset.loc[:, obj_cols].fillna(\"NaN0\")\n",
    "add_datepart(dataset, \"saledate\")"
   ]
  },
  {
   "cell_type": "code",
   "execution_count": 81,
   "metadata": {},
   "outputs": [],
   "source": [
    "validset = pd.read_csv('./data/Valid.csv', low_memory = False, parse_dates=[\"saledate\"])\n",
    "obj_cols = validset.select_dtypes(include = ['object']).columns\n",
    "validset.loc[:, obj_cols] = validset.loc[:, obj_cols].fillna(\"NaN0\")\n",
    "add_datepart(validset, \"saledate\")"
   ]
  },
  {
   "cell_type": "code",
   "execution_count": 82,
   "metadata": {},
   "outputs": [],
   "source": [
    "solnset = pd.read_csv('./data/ValidSolution.csv', low_memory = False)\n",
    "solnset.SalePrice = np.log(solnset.SalePrice)\n",
    "obj_cols = solnset.select_dtypes(include = ['object']).columns\n",
    "solnset.loc[:, obj_cols] = solnset.loc[:, obj_cols].fillna(\"NaN0\")"
   ]
  },
  {
   "cell_type": "code",
   "execution_count": 83,
   "metadata": {},
   "outputs": [],
   "source": [
    "from sklearn.preprocessing import LabelEncoder\n",
    "\n",
    "le = LabelEncoder()\n",
    "def encode_cols(df, dp = True):\n",
    "    for header in df.columns:\n",
    "        col = df[header]\n",
    "        if col.dtype == \"object\":\n",
    "            enc_col = le.fit_transform(col)\n",
    "            df[header] = enc_col\n",
    "encode_cols(dataset)\n",
    "encode_cols(validset)\n",
    "dataset.fillna(dataset.mean(), inplace = True)\n",
    "validset.fillna(testset.mean(), inplace = True)"
   ]
  },
  {
   "cell_type": "code",
   "execution_count": 84,
   "metadata": {},
   "outputs": [],
   "source": [
    "from sklearn.ensemble import RandomForestRegressor"
   ]
  },
  {
   "cell_type": "code",
   "execution_count": 85,
   "metadata": {},
   "outputs": [
    {
     "name": "stderr",
     "output_type": "stream",
     "text": [
      "/Library/Frameworks/Python.framework/Versions/3.7/lib/python3.7/site-packages/sklearn/ensemble/forest.py:246: FutureWarning: The default value of n_estimators will change from 10 in version 0.20 to 100 in 0.22.\n",
      "  \"10 in version 0.20 to 100 in 0.22.\", FutureWarning)\n"
     ]
    },
    {
     "name": "stdout",
     "output_type": "stream",
     "text": [
      "CPU times: user 1min 53s, sys: 1.99 s, total: 1min 55s\n",
      "Wall time: 39.6 s\n"
     ]
    }
   ],
   "source": [
    "%%time\n",
    "y_train = dataset[\"SalePrice\"]\n",
    "X_train = dataset[[x for x in dataset.columns if x != \"SalePrice\"]]\n",
    "rf = RandomForestRegressor(n_jobs = -1)\n",
    "rf.fit(X_train, y_train)"
   ]
  },
  {
   "cell_type": "code",
   "execution_count": 86,
   "metadata": {},
   "outputs": [
    {
     "name": "stdout",
     "output_type": "stream",
     "text": [
      "[10.71052361 11.35637564 11.07446575 ...  9.95453745 10.00318754\n",
      " 10.28407384]\n",
      "0.0504775001218115\n"
     ]
    }
   ],
   "source": [
    "from sklearn.metrics import mean_squared_log_error\n",
    "from math import sqrt\n",
    "predictions = rf.predict(validset)\n",
    "print(predictions)\n",
    "# out = sorted(zip(validset[validset.columns[0]], predictions), key = lambda x: x[0])\n",
    "# print(list(out))\n",
    "# print(solnset[\"SalePrice\"])\n",
    "print(sqrt(mean_squared_log_error(predictions, solnset[\"SalePrice\"])))"
   ]
  }
 ],
 "metadata": {
  "kernelspec": {
   "display_name": "Python 3",
   "language": "python",
   "name": "python3"
  },
  "language_info": {
   "codemirror_mode": {
    "name": "ipython",
    "version": 3
   },
   "file_extension": ".py",
   "mimetype": "text/x-python",
   "name": "python",
   "nbconvert_exporter": "python",
   "pygments_lexer": "ipython3",
   "version": "3.7.1"
  }
 },
 "nbformat": 4,
 "nbformat_minor": 2
}
