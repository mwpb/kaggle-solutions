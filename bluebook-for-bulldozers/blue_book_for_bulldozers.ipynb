{
  "nbformat": 4,
  "nbformat_minor": 0,
  "metadata": {
    "colab": {
      "name": "blue_book_for_bulldozers.ipynb",
      "version": "0.3.2",
      "provenance": [],
      "collapsed_sections": []
    },
    "kernelspec": {
      "name": "python3",
      "display_name": "Python 3"
    },
    "accelerator": "GPU"
  },
  "cells": [
    {
      "metadata": {
        "id": "5x1ft6k_Yf63",
        "colab_type": "text"
      },
      "cell_type": "markdown",
      "source": [
        "[fast ai](https://forums.fast.ai/t/class-notes-section-2-wk2lec2/6818)\n",
        "\n",
        "[kaggle home](https://www.kaggle.com/c/bluebook-for-bulldozers/data)"
      ]
    },
    {
      "metadata": {
        "id": "cxEWK_FBWBBe",
        "colab_type": "code",
        "colab": {}
      },
      "cell_type": "code",
      "source": [
        "import numpy as np\n",
        "import pandas as pd"
      ],
      "execution_count": 0,
      "outputs": []
    },
    {
      "metadata": {
        "id": "35LDsfaaWiJT",
        "colab_type": "code",
        "colab": {}
      },
      "cell_type": "code",
      "source": [
        "# Get data\n",
        "\n",
        "df_train = pd.read_csv(\n",
        "    \"https://storage.googleapis.com/kaggle-competitions-data/kaggle/3316/Train.zip?GoogleAccessId=web-data@kaggle-161607.iam.gserviceaccount.com&Expires=1549390646&Signature=KS0lrEyMHL6RRLzh7%2B7umeAGdfB9%2B1jar0r2NXysh8LsmotnUvuns5Vk7eUonItmrM4PeYKaugPO79M0mYDOOjNZPPVfvpgSZoE5PGxOHlX34iQIBPeALfBzJSGQA%2FN848rDYJs6qeRSl3H9YLQra8XetnSfJscS%2BcNn7nvJ2qJr%2FITCjtgg0eFwlNnLpZgXVAd0MgTw9r6Up66UnGDLN3HD7DAHagGMSUr2Ueup41SaAfX149A3RMKzUqvPz2PsZHrWXRxhp13q2X1N4eHkPEDj0WnD21SQKCz1i6TxBx0G5fwTeHgVl9DV3UCG5fu5JcJe4H%2FcBGjaY%2FhZswCjUQ%3D%3D\",\n",
        "    low_memory = False, compression = \"zip\")#, parse_dates=[\"saledate\"])\n",
        "df_valid = pd.read_csv(\n",
        "    'https://storage.googleapis.com/kaggle-competitions-data/kaggle/3316/Valid.csv?GoogleAccessId=web-data@kaggle-161607.iam.gserviceaccount.com&Expires=1549389685&Signature=T6vPUveEHncPmzxiC2sjUTYkfqEgeC3Y110SQbM0q1E%2F66J2fbCR5KoMwTTXW2B4LmdDjoihpjAULlMZx%2FEbyh%2BLQ46xlzM3YpmZNHnOzkmLpj34yA6cP3xNmx5D%2FsykHIbd8ydIEN9R5PB4VzEOz9q%2FbHl42xLNFWbRcuw1%2BsxiSzKxMA4T4ae5aQ4h4Hc0uzUTinArDmEW4X8Uw6D56PHiIverdCLZEThMJ5%2B3R3WpHT0GAFd0xxGNdNzLARPzuoFjZF80NFXa%2B5K92%2Bucq%2FJjWmZXmiRVgAIQ%2FYdbGUysfnCxQaCMRdHsrPNRqw2XYYR%2BCuEOIOcPJKVuLNaqpA%3D%3D',\n",
        "    low_memory = False)#, parse_dates=[\"saledate\"])\n",
        "df_valid_solutions = pd.read_csv(\n",
        "    'https://storage.googleapis.com/kaggle-competitions-data/kaggle/3316/ValidSolution.csv?GoogleAccessId=web-data@kaggle-161607.iam.gserviceaccount.com&Expires=1549389758&Signature=L8dNBqn5UE%2B%2By3ymP6IfZNn5uzeMCAaGKctVCuEjwNw%2F8RiQO0jdz64JaIXi4KTqadabiKTsjhW6xgZiV%2FQeTat%2F8aKFCTSSgRemgfOOOSvO9cXFPYDJPu6xq%2Fuevy2If4HaeKeCGlddryKfxXI44qbybivJmM5lgcR9yww244%2BeZbXlDLHLTQDQ%2Bfisc9cBTM7cmFB1KC%2BSYN60SYI%2BfymithDWMbR7CJHBHmCtdQf%2FtZHWdHeW%2Bv5EVEKBj09leKimLw4mMIMhTs20rpU1mjmkCt0ZFU0WUqrvzbjSLYUCyI72a2UJqXfebNGfS7ogsv9%2FPPZsy4t4jiROOs4aEQ%3D%3D',\n",
        "    low_memory = False)"
      ],
      "execution_count": 0,
      "outputs": []
    },
    {
      "metadata": {
        "id": "2iKhilAZYSu3",
        "colab_type": "code",
        "colab": {}
      },
      "cell_type": "code",
      "source": [
        "y_train = df_train[\"SalePrice\"]\n",
        "X_train = df_train.drop(columns = [\"SalePrice\"])\n",
        "y_test = df_valid_solutions[\"SalePrice\"]\n",
        "X_test = df_valid"
      ],
      "execution_count": 0,
      "outputs": []
    },
    {
      "metadata": {
        "id": "3gvKr8N9fFKZ",
        "colab_type": "code",
        "colab": {}
      },
      "cell_type": "code",
      "source": [
        "from sklearn.preprocessing import LabelEncoder, Imputer\n",
        "# def add_null_indicator_columns(df):\n",
        "#   for header in df:\n",
        "#     col = df[header]\n",
        "#     if col.dtype == \"float32\" or col.dtype == \"float\" or col.dtype == \"float64\":\n",
        "#       if col.isnull().sum():\n",
        "#         df[header+\"_na\"] = pd.isnull(col)\n",
        "#         X_test[header+\"_na\"] = pd.isnull(X_test[header])\n",
        "def enc_col(col):\n",
        "  if col.dtype == \"object\":\n",
        "    col = col.fillna(\"NAN0\")\n",
        "    return LabelEncoder().fit_transform(col)\n",
        "  elif col.dtype == \"float32\" or col.dtype == \"float\" or col.dtype == \"float64\":\n",
        "    return col.fillna(col.median())\n",
        "  else:\n",
        "    return col\n",
        "# add_null_indicator_columns(X_train)\n",
        "# add_null_indicator_columns(X_test)\n",
        "X_train[:] = X_train.apply(enc_col)\n",
        "X_test[:] = X_test.apply(enc_col)"
      ],
      "execution_count": 0,
      "outputs": []
    },
    {
      "metadata": {
        "id": "PS1_JvgEy-z1",
        "colab_type": "code",
        "outputId": "a0b4165b-bde5-46ae-d85a-84e91af3a297",
        "colab": {
          "base_uri": "https://localhost:8080/",
          "height": 183
        }
      },
      "cell_type": "code",
      "source": [
        "from sklearn.ensemble import RandomForestRegressor\n",
        "rf = RandomForestRegressor()\n",
        "rf.fit(X_train, y_train)"
      ],
      "execution_count": 122,
      "outputs": [
        {
          "output_type": "stream",
          "text": [
            "/usr/local/lib/python3.6/dist-packages/sklearn/ensemble/forest.py:246: FutureWarning: The default value of n_estimators will change from 10 in version 0.20 to 100 in 0.22.\n",
            "  \"10 in version 0.20 to 100 in 0.22.\", FutureWarning)\n"
          ],
          "name": "stderr"
        },
        {
          "output_type": "execute_result",
          "data": {
            "text/plain": [
              "RandomForestRegressor(bootstrap=True, criterion='mse', max_depth=None,\n",
              "           max_features='auto', max_leaf_nodes=None,\n",
              "           min_impurity_decrease=0.0, min_impurity_split=None,\n",
              "           min_samples_leaf=1, min_samples_split=2,\n",
              "           min_weight_fraction_leaf=0.0, n_estimators=10, n_jobs=None,\n",
              "           oob_score=False, random_state=None, verbose=0, warm_start=False)"
            ]
          },
          "metadata": {
            "tags": []
          },
          "execution_count": 122
        }
      ]
    },
    {
      "metadata": {
        "id": "59316eS_IdzR",
        "colab_type": "code",
        "colab": {}
      },
      "cell_type": "code",
      "source": [
        "predictions = rf.predict(X_test)"
      ],
      "execution_count": 0,
      "outputs": []
    },
    {
      "metadata": {
        "id": "pWlG_NX2JGDv",
        "colab_type": "code",
        "colab": {
          "base_uri": "https://localhost:8080/",
          "height": 34
        },
        "outputId": "4324630c-59ff-4622-a7f8-efaff7102d95"
      },
      "cell_type": "code",
      "source": [
        "from sklearn.metrics import mean_squared_log_error\n",
        "from math import sqrt\n",
        "print(sqrt(mean_squared_log_error(predictions, y_test)))"
      ],
      "execution_count": 124,
      "outputs": [
        {
          "output_type": "stream",
          "text": [
            "0.46589829964768076\n"
          ],
          "name": "stdout"
        }
      ]
    }
  ]
}